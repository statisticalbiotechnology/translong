{
 "cells": [
  {
   "cell_type": "code",
   "execution_count": 3,
   "metadata": {},
   "outputs": [],
   "source": [
    "import pandas as pd\n",
    "import numpy as np\n",
    "import statsmodels.api as sm\n",
    "from statsmodels.formula.api import ols\n",
    "from datetime import date\n",
    "import os"
   ]
  },
  {
   "cell_type": "code",
   "execution_count": 4,
   "metadata": {},
   "outputs": [],
   "source": [
    "#Perform ANOVA with statsmodels anova_lm for each TF separately and return a dataframe with p-values\n",
    "def ANOVA(PCA_per_TF):\n",
    "    p_vals = pd.DataFrame(index=PCA_per_TF.T.index, columns=['C(organ)','C(dev_stage)','C(organ):C(dev_stage)'])\n",
    "    for TF in p_vals.index:\n",
    "        test_data = pd.DataFrame(PCA_per_TF.loc[:,TF])\n",
    "        test_data = test_data.reset_index()\n",
    "        test_data.columns = [\"organ\", \"dev_stage\", \"TF_expr\"]\n",
    "        data = test_data\n",
    "        TF_lm = ols('TF_expr ~ C(organ)+C(dev_stage)+C(organ):C(dev_stage)', data=data).fit()\n",
    "        table = sm.stats.anova_lm(TF_lm, typ=2)\n",
    "        p_vals.loc[TF,'C(organ)'] = table.iloc[0,3]\n",
    "        p_vals.loc[TF,'C(dev_stage)'] = table.iloc[1,3]\n",
    "        p_vals.loc[TF,'C(organ):C(dev_stage)'] = table.iloc[2,3]\n",
    "        p_vals.index.name = 'TF'\n",
    "    return p_vals\n",
    "    \n",
    "#Save data from performed experiments as tsv file\n",
    "def save_exp(data, filename):\n",
    "    if os.path.isdir('../exp/'+str(date.today())):\n",
    "        data.to_csv('../exp/'+str(date.today())+'/'+filename+'.tsv', sep='\\t')\n",
    "    else:\n",
    "        os.mkdir('../exp/'+str(date.today()))\n",
    "        data.to_csv('../exp/'+str(date.today())+'/'+filename+'.tsv', sep='\\t')"
   ]
  },
  {
   "cell_type": "code",
   "execution_count": 10,
   "metadata": {},
   "outputs": [],
   "source": [
    "PCA_per_TF = pd.read_csv('../exp/'+str(date.today())+'/PCA_results.tsv', sep='\\t')\n",
    "#PCA_per_TF = PCA_per_TF.replace(['embryonic day 15.5','embryonic day 18.5','postnatal day 0.5','postnatal day 4','postnatal day 22','postnatal day 29'],[-5.5,-2.5,0.5,2,22,29])\n",
    "PCA_per_TF = PCA_per_TF.set_index(['organ','dev_stage'])\n",
    "PCA_per_TF.sort_index(inplace=True)\n",
    "\n",
    "p_vals = ANOVA(PCA_per_TF)"
   ]
  },
  {
   "cell_type": "code",
   "execution_count": 11,
   "metadata": {},
   "outputs": [
    {
     "data": {
      "text/plain": [
       "<matplotlib.axes._subplots.AxesSubplot at 0x7f7e59b56890>"
      ]
     },
     "execution_count": 11,
     "metadata": {},
     "output_type": "execute_result"
    },
    {
     "data": {
      "image/png": "[encoded data removed]",
      "text/plain": [
       "<Figure size 432x288 with 1 Axes>"
      ]
     },
     "metadata": {
      "needs_background": "light"
     },
     "output_type": "display_data"
    }
   ],
   "source": [
    "p_vals.loc[:,'C(organ):C(dev_stage)'].hist()"
   ]
  },
  {
   "cell_type": "code",
   "execution_count": 5,
   "metadata": {},
   "outputs": [],
   "source": [
    "PCA_per_TF = pd.read_csv('../exp/2020-02-11/PCA_results.tsv', sep='\\t')\n",
    "#PCA_per_TF = PCA_per_TF.replace(['embryonic day 15.5','embryonic day 18.5','postnatal day 0.5','postnatal day 4','postnatal day 22','postnatal day 29'],[-5.5,-2.5,0.5,2,22,29])\n",
    "PCA_per_TF = PCA_per_TF.set_index(['organ','dev_stage'])\n",
    "PCA_per_TF.sort_index(inplace=True)\n",
    "\n",
    "p_vals = ANOVA(PCA_per_TF)"
   ]
  },
  {
   "cell_type": "code",
   "execution_count": 12,
   "metadata": {},
   "outputs": [
    {
     "data": {
      "text/html": [
       "<div>\n",
       "<style scoped>\n",
       "    .dataframe tbody tr th:only-of-type {\n",
       "        vertical-align: middle;\n",
       "    }\n",
       "\n",
       "    .dataframe tbody tr th {\n",
       "        vertical-align: top;\n",
       "    }\n",
       "\n",
       "    .dataframe thead th {\n",
       "        text-align: right;\n",
       "    }\n",
       "</style>\n",
       "<table border=\"1\" class=\"dataframe\">\n",
       "  <thead>\n",
       "    <tr style=\"text-align: right;\">\n",
       "      <th></th>\n",
       "      <th>C(organ)</th>\n",
       "      <th>C(dev_stage)</th>\n",
       "      <th>C(organ):C(dev_stage)</th>\n",
       "    </tr>\n",
       "    <tr>\n",
       "      <th>TF</th>\n",
       "      <th></th>\n",
       "      <th></th>\n",
       "      <th></th>\n",
       "    </tr>\n",
       "  </thead>\n",
       "  <tbody>\n",
       "    <tr>\n",
       "      <td>Hnf1a</td>\n",
       "      <td>1.83412e-18</td>\n",
       "      <td>6.19586e-05</td>\n",
       "      <td>1.17409e-05</td>\n",
       "    </tr>\n",
       "    <tr>\n",
       "      <td>Rtf1</td>\n",
       "      <td>1.34285e-14</td>\n",
       "      <td>5.76547e-11</td>\n",
       "      <td>9.31578e-06</td>\n",
       "    </tr>\n",
       "  </tbody>\n",
       "</table>\n",
       "</div>"
      ],
      "text/plain": [
       "          C(organ) C(dev_stage) C(organ):C(dev_stage)\n",
       "TF                                                   \n",
       "Hnf1a  1.83412e-18  6.19586e-05           1.17409e-05\n",
       "Rtf1   1.34285e-14  5.76547e-11           9.31578e-06"
      ]
     },
     "execution_count": 12,
     "metadata": {},
     "output_type": "execute_result"
    }
   ],
   "source": [
    "low_p_vals = p_vals.loc[p_vals['C(organ):C(dev_stage)']<(0.05/len(p_vals))]\n",
    "low_p_vals"
   ]
  },
  {
   "cell_type": "code",
   "execution_count": null,
   "metadata": {},
   "outputs": [],
   "source": [
    "save_exp(p_vals,'p_vals')"
   ]
  }
 ],
 "metadata": {
  "kernelspec": {
   "display_name": "Python 3",
   "language": "python",
   "name": "python3"
  },
  "language_info": {
   "codemirror_mode": {
    "name": "ipython",
    "version": 3
   },
   "file_extension": ".py",
   "mimetype": "text/x-python",
   "name": "python",
   "nbconvert_exporter": "python",
   "pygments_lexer": "ipython3",
   "version": "3.7.4"
  }
 },
 "nbformat": 4,
 "nbformat_minor": 2
}
