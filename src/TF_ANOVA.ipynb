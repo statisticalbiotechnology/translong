{
 "cells": [
  {
   "cell_type": "code",
   "execution_count": 43,
   "metadata": {},
   "outputs": [],
   "source": [
    "import pandas as pd\n",
    "import numpy as np\n",
    "import statsmodels.api as sm\n",
    "from statsmodels.formula.api import ols\n",
    "from datetime import date\n",
    "import os"
   ]
  },
  {
   "cell_type": "code",
   "execution_count": 44,
   "metadata": {},
   "outputs": [],
   "source": [
    "PCA_per_TF = pd.read_csv('../exp/'+str(date.today())+'/PCA_results.csv')\n",
    "#PCA_per_TF = PCA_per_TF.replace(['embryonic day 15.5','embryonic day 18.5','postnatal day 0.5','postnatal day 4','postnatal day 22','postnatal day 29'],[-5.5,-2.5,0.5,2,22,29])\n",
    "PCA_per_TF = PCA_per_TF.set_index(['organ','dev_stage'])\n",
    "PCA_per_TF.sort_index(inplace=True)\n",
    "\n",
    "\n",
    "p_val = pd.DataFrame(index=PCA_per_TF.T.index, columns=['C(organ)','C(dev_stage)','C(organ):C(dev_stage)'])\n",
    "for TF in p_val.index:\n",
    "    test_data = pd.DataFrame(PCA_per_TF.loc[:,TF])\n",
    "    test_data = test_data.reset_index()\n",
    "    test_data.columns = [\"organ\", \"dev_stage\", \"TF_expr\"]\n",
    "    data = test_data\n",
    "    TF_lm = ols('TF_expr ~ C(organ)+C(dev_stage)+C(organ):C(dev_stage)', data=data).fit()\n",
    "    table = sm.stats.anova_lm(TF_lm, typ=2)\n",
    "    p_val.loc[TF,'C(organ)'] = table.iloc[0,3]\n",
    "    p_val.loc[TF,'C(dev_stage)'] = table.iloc[1,3]\n",
    "    p_val.loc[TF,'C(organ):C(dev_stage)'] = table.iloc[2,3]\n",
    "    p_val.index.name = 'TF'\n",
    "p_val"
   ]
  },
  {
   "cell_type": "code",
   "execution_count": null,
   "metadata": {},
   "outputs": [],
   "source": [
    "try:\n",
    "    p_val.to_csv('../exp/'+str(date.today())+'/p_vals.csv')\n",
    "except FileNotFoundError:\n",
    "    os.mkdir('../exp/'+str(date.today()))\n",
    "    p_val.to_csv('../exp/'+str(date.today())+'/p_vals.csv')\n"
   ]
  }
 ],
 "metadata": {
  "kernelspec": {
   "display_name": "Python 3",
   "language": "python",
   "name": "python3"
  },
  "language_info": {
   "codemirror_mode": {
    "name": "ipython",
    "version": 3
   },
   "file_extension": ".py",
   "mimetype": "text/x-python",
   "name": "python",
   "nbconvert_exporter": "python",
   "pygments_lexer": "ipython3",
   "version": "3.7.4"
  }
 },
 "nbformat": 4,
 "nbformat_minor": 2
}
