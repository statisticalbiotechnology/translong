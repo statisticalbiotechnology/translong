{
 "cells": [
  {
   "cell_type": "code",
   "execution_count": 13,
   "metadata": {},
   "outputs": [],
   "source": [
    "import numpy as np\n",
    "import numpy.random as npr\n",
    "import pandas as pd\n",
    "from datetime import date\n",
    "import os"
   ]
  },
  {
   "cell_type": "code",
   "execution_count": 14,
   "metadata": {},
   "outputs": [],
   "source": [
    "def bootstrap(invec):\n",
    "    idx = npr.randint(0, len(invec), len(invec))\n",
    "    return [invec[i] for i in idx]\n",
    "\n",
    "#Estimate pi0 for q-value calculation\n",
    "def estimatePi0(p, numBoot=100, numLambda=100, maxLambda=0.95):\n",
    "    p.sort()\n",
    "    n=len(p)\n",
    "    lambdas=np.linspace(maxLambda/numLambda,maxLambda,numLambda)\n",
    "    Wls=np.array([n-np.argmax(p>=l) for l in lambdas])\n",
    "    pi0s=np.array([Wls[i] / (n * (1 - lambdas[i])) for i in range(numLambda)])\n",
    "    minPi0=np.min(pi0s)\n",
    "    mse = np.zeros(numLambda)\n",
    "    for boot in range(numBoot):\n",
    "        pBoot = bootstrap(p)\n",
    "        pBoot.sort()\n",
    "        WlsBoot =np.array([n-np.argmax(pBoot>=l) for l in lambdas])\n",
    "        pi0sBoot =np.array([WlsBoot[i] / (n *(1 - lambdas[i])) for i in range(numLambda)])\n",
    "        mse = mse + np.square(pi0sBoot-minPi0)\n",
    "    minIx = np.argmin(mse)\n",
    "    return pi0s[minIx]\n",
    "\n",
    "# The input to this function is tupples of p-values and analyte names, e.g. (p,coord)\n",
    "#def qvalues(pvalues):\n",
    "#   m=len(pvalues)\n",
    "#    pvalues.sort()\n",
    "#    pi0 = estimatePi0([p for p,coord in pvalues])\n",
    "#    num_p, qs = 0.0, []\n",
    "#    for p,coord in pvalues:\n",
    "#        num_p += 1.0\n",
    "#        q = pi0*p*m/num_p\n",
    "#        qs.append((q,p,coord))\n",
    "#    qs.reverse()\n",
    "#    old_q=1.0\n",
    "#    for ix in range(len(qs)):\n",
    "#        q = min(old_q,qs[ix][0])\n",
    "#        old_q = q\n",
    "#        qs[ix] = (q,qs[ix][1],qs[ix][2])\n",
    "#    qs.reverse()\n",
    "#    return qs\n",
    "\n",
    "#Calculate q-values\n",
    "def qvalues(pvalues):\n",
    "\n",
    "    pcolname = pvalues.columns[0]\n",
    "\n",
    "    m = pvalues.shape[0]\n",
    "    assert(m>0)\n",
    "    pvalues.sort_values(by = pcolname, inplace=True)\n",
    "    pi0 = estimatePi0(pvalues.transpose().values[0].tolist())\n",
    "    num_p = 0\n",
    "\n",
    "    qs = pd.DataFrame(columns = [ 'q' ])\n",
    "\n",
    "    for TF in pvalues.index:\n",
    "        p = pvalues.loc[TF,pcolname]\n",
    "        num_p += 1\n",
    "        fdr = pi0*p*m/num_p\n",
    "        qs.loc[TF,'q'] = fdr \n",
    "\n",
    "\n",
    "    qs = qs.iloc[::-1]\n",
    "    old_q=1.0\n",
    "    for TF in qs.index:\n",
    "        q = min(old_q,qs.loc[TF,'q'])\n",
    "        old_q = q\n",
    "        qs.loc[TF,'q'] = q\n",
    "    return qs\n",
    "\n",
    "#Save files from performed experiments\n",
    "def save_exp(data, filename):\n",
    "    if os.path.isdir('../exp/'+str(date.today())):\n",
    "        data.to_csv('../exp/'+str(date.today())+'/'+filename+'.tsv', sep='\\t')\n",
    "    else:\n",
    "        os.mkdir('../exp/'+str(date.today()))\n",
    "        data.to_csv('../exp/'+str(date.today())+'/'+filename+'.tsv', sep='\\t')"
   ]
  },
  {
   "cell_type": "code",
   "execution_count": 22,
   "metadata": {},
   "outputs": [],
   "source": [
    "p_vals = pd.read_csv('../exp/'+str(date.today())+'/p_vals.tsv', sep='\\t', index_col='TF')\n",
    "\n",
    "q_vals = pd.DataFrame(index=p_vals.index, columns=p_vals.columns)\n",
    "\n",
    "for C in p_vals.columns:\n",
    "    subset = pd.DataFrame(p_vals.loc[:,C])\n",
    "    q = qvalues(subset)\n",
    "    q_vals.loc[:,C] = q"
   ]
  },
  {
   "cell_type": "code",
   "execution_count": 19,
   "metadata": {},
   "outputs": [],
   "source": [
    "q_vals.sort_values(by='C(organ):C(dev_stage)', inplace=True)"
   ]
  },
  {
   "cell_type": "code",
   "execution_count": null,
   "metadata": {},
   "outputs": [],
   "source": [
    "save_exp(qvals,'q_vals')"
   ]
  }
 ],
 "metadata": {
  "kernelspec": {
   "display_name": "Python 3",
   "language": "python",
   "name": "python3"
  },
  "language_info": {
   "codemirror_mode": {
    "name": "ipython",
    "version": 3
   },
   "file_extension": ".py",
   "mimetype": "text/x-python",
   "name": "python",
   "nbconvert_exporter": "python",
   "pygments_lexer": "ipython3",
   "version": "3.7.4"
  }
 },
 "nbformat": 4,
 "nbformat_minor": 2
}
