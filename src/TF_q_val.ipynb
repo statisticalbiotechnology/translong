{
 "cells": [
  {
   "cell_type": "code",
   "execution_count": 2,
   "metadata": {},
   "outputs": [],
   "source": [
    "import numpy as np\n",
    "import numpy.random as npr\n",
    "import pandas as pd\n",
    "from datetime import date\n",
    "import os"
   ]
  },
  {
   "cell_type": "code",
   "execution_count": 3,
   "metadata": {},
   "outputs": [],
   "source": [
    "def bootstrap(invec):\n",
    "    idx = npr.randint(0, len(invec), len(invec))\n",
    "    return [invec[i] for i in idx]\n",
    "\n",
    "def estimatePi0(p, numBoot=100, numLambda=100, maxLambda=0.95):\n",
    "    p.sort()\n",
    "    n=len(p)\n",
    "    lambdas=np.linspace(maxLambda/numLambda,maxLambda,numLambda)\n",
    "    Wls=np.array([n-np.argmax(p>=l) for l in lambdas])\n",
    "    pi0s=np.array([Wls[i] / (n * (1 - lambdas[i])) for i in range(numLambda)])\n",
    "    minPi0=np.min(pi0s)\n",
    "    mse = np.zeros(numLambda)\n",
    "    for boot in range(numBoot):\n",
    "        pBoot = bootstrap(p)\n",
    "        pBoot.sort()\n",
    "        WlsBoot =np.array([n-np.argmax(pBoot>=l) for l in lambdas])\n",
    "        pi0sBoot =np.array([WlsBoot[i] / (n *(1 - lambdas[i])) for i in range(numLambda)])\n",
    "        mse = mse + np.square(pi0sBoot-minPi0)\n",
    "    minIx = np.argmin(mse)\n",
    "    return pi0s[minIx]\n",
    "\n",
    "# The input to this function is tupples of p-values and analyte names, e.g. (p,coord)\n",
    "#def qvalues(pvalues):\n",
    "#   m=len(pvalues)\n",
    "#    pvalues.sort()\n",
    "#    pi0 = estimatePi0([p for p,coord in pvalues])\n",
    "#    num_p, qs = 0.0, []\n",
    "#    for p,coord in pvalues:\n",
    "#        num_p += 1.0\n",
    "#        q = pi0*p*m/num_p\n",
    "#        qs.append((q,p,coord))\n",
    "#    qs.reverse()\n",
    "#    old_q=1.0\n",
    "#    for ix in range(len(qs)):\n",
    "#        q = min(old_q,qs[ix][0])\n",
    "#        old_q = q\n",
    "#        qs[ix] = (q,qs[ix][1],qs[ix][2])\n",
    "#    qs.reverse()\n",
    "#    return qs\n",
    "\n",
    "def qvalues(pvalues):\n",
    "\n",
    "    pcolname = pvalues.columns[0]\n",
    "\n",
    "    m = float(len(pvalues.transpose().values[0].tolist()))\n",
    "    assert(m>0)\n",
    "    pvalues = pvalues.sort_values(by = pcolname)\n",
    "    pi0 = estimatePi0(pvalues.transpose().values[0].tolist())\n",
    "    num_p, p_sum = 0, 0.0\n",
    "\n",
    "    qs = pd.DataFrame(columns = [ 'q' ])\n",
    "\n",
    "    for index, row in pvalues.iterrows():\n",
    "        p = row[pcolname]\n",
    "        num_p += 1\n",
    "        p_sum += p\n",
    "        q = pi0*p*m/float(num_p)\n",
    "        qs.loc[index,'q'] = q \n",
    "\n",
    "\n",
    "    qs = qs.iloc[::-1]\n",
    "    old_q=1.0\n",
    "    for ix in range(len(qs)):\n",
    "        q = min(old_q,qs.iloc[ix, 0])\n",
    "        old_q = q\n",
    "        qs.iloc[ix, 0] = q\n",
    "    return qs"
   ]
  },
  {
   "cell_type": "code",
   "execution_count": 6,
   "metadata": {},
   "outputs": [
    {
     "data": {
      "text/html": [
       "<div>\n",
       "<style scoped>\n",
       "    .dataframe tbody tr th:only-of-type {\n",
       "        vertical-align: middle;\n",
       "    }\n",
       "\n",
       "    .dataframe tbody tr th {\n",
       "        vertical-align: top;\n",
       "    }\n",
       "\n",
       "    .dataframe thead th {\n",
       "        text-align: right;\n",
       "    }\n",
       "</style>\n",
       "<table border=\"1\" class=\"dataframe\">\n",
       "  <thead>\n",
       "    <tr style=\"text-align: right;\">\n",
       "      <th></th>\n",
       "      <th>Unnamed: 0</th>\n",
       "      <th>C(organ)</th>\n",
       "      <th>C(dev_stage)</th>\n",
       "      <th>C(organ):C(dev_stage)</th>\n",
       "    </tr>\n",
       "  </thead>\n",
       "  <tbody>\n",
       "    <tr>\n",
       "      <td>0</td>\n",
       "      <td>Acaa2</td>\n",
       "      <td>0.153573</td>\n",
       "      <td>0.843688</td>\n",
       "      <td>0.234084</td>\n",
       "    </tr>\n",
       "  </tbody>\n",
       "</table>\n",
       "</div>"
      ],
      "text/plain": [
       "  Unnamed: 0  C(organ)  C(dev_stage)  C(organ):C(dev_stage)\n",
       "0      Acaa2  0.153573      0.843688               0.234084"
      ]
     },
     "execution_count": 6,
     "metadata": {},
     "output_type": "execute_result"
    }
   ],
   "source": [
    "p_vals = pd.read_csv('../exp/'+str(date.today())+'/p_vals.csv', index_col='TF')\n",
    "display(p_val)\n",
    "\n",
    "q_vals = pd.DataFrame(index=p_vals.index, columns=p_vals.columns)\n",
    "\n",
    "for C in p_vals.columns\n",
    "    subset = pd.DataFrame(p_vals.loc[:,C])\n",
    "    q = qvalues(subset)\n",
    "    q_vals.loc[:,C] = q"
   ]
  },
  {
   "cell_type": "code",
   "execution_count": null,
   "metadata": {},
   "outputs": [],
   "source": [
    "low_q_vals = q_vals.where(q_vals.iloc[:,'C(organ):C(dev_stage)']<0.005).dropna()\n"
   ]
  },
  {
   "cell_type": "code",
   "execution_count": null,
   "metadata": {},
   "outputs": [],
   "source": []
  }
 ],
 "metadata": {
  "kernelspec": {
   "display_name": "Python 3",
   "language": "python",
   "name": "python3"
  },
  "language_info": {
   "codemirror_mode": {
    "name": "ipython",
    "version": 3
   },
   "file_extension": ".py",
   "mimetype": "text/x-python",
   "name": "python",
   "nbconvert_exporter": "python",
   "pygments_lexer": "ipython3",
   "version": "3.7.4"
  }
 },
 "nbformat": 4,
 "nbformat_minor": 2
}
