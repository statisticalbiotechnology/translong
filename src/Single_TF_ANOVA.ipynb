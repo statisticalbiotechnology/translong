{
 "cells": [
  {
   "cell_type": "code",
   "execution_count": 14,
   "metadata": {},
   "outputs": [],
   "source": [
    "import pandas as pd\n",
    "import numpy as np\n",
    "import statsmodels.api as sm\n",
    "from statsmodels.formula.api import ols"
   ]
  },
  {
   "cell_type": "code",
   "execution_count": 25,
   "metadata": {},
   "outputs": [
    {
     "data": {
      "text/html": [
       "<div>\n",
       "<style scoped>\n",
       "    .dataframe tbody tr th:only-of-type {\n",
       "        vertical-align: middle;\n",
       "    }\n",
       "\n",
       "    .dataframe tbody tr th {\n",
       "        vertical-align: top;\n",
       "    }\n",
       "\n",
       "    .dataframe thead th {\n",
       "        text-align: right;\n",
       "    }\n",
       "</style>\n",
       "<table border=\"1\" class=\"dataframe\">\n",
       "  <thead>\n",
       "    <tr style=\"text-align: right;\">\n",
       "      <th></th>\n",
       "      <th>sum_sq</th>\n",
       "      <th>df</th>\n",
       "      <th>F</th>\n",
       "      <th>PR(&gt;F)</th>\n",
       "    </tr>\n",
       "  </thead>\n",
       "  <tbody>\n",
       "    <tr>\n",
       "      <td>C(organ)</td>\n",
       "      <td>2.156220e-27</td>\n",
       "      <td>1.0</td>\n",
       "      <td>5.100598e-30</td>\n",
       "      <td>1.000000</td>\n",
       "    </tr>\n",
       "    <tr>\n",
       "      <td>C(dev_stage)</td>\n",
       "      <td>8.623833e+02</td>\n",
       "      <td>5.0</td>\n",
       "      <td>4.079983e-01</td>\n",
       "      <td>0.834257</td>\n",
       "    </tr>\n",
       "    <tr>\n",
       "      <td>C(organ):C(dev_stage)</td>\n",
       "      <td>3.794157e+03</td>\n",
       "      <td>5.0</td>\n",
       "      <td>1.795037e+00</td>\n",
       "      <td>0.188367</td>\n",
       "    </tr>\n",
       "    <tr>\n",
       "      <td>Residual</td>\n",
       "      <td>5.072863e+03</td>\n",
       "      <td>12.0</td>\n",
       "      <td>NaN</td>\n",
       "      <td>NaN</td>\n",
       "    </tr>\n",
       "  </tbody>\n",
       "</table>\n",
       "</div>"
      ],
      "text/plain": [
       "                             sum_sq    df             F    PR(>F)\n",
       "C(organ)               2.156220e-27   1.0  5.100598e-30  1.000000\n",
       "C(dev_stage)           8.623833e+02   5.0  4.079983e-01  0.834257\n",
       "C(organ):C(dev_stage)  3.794157e+03   5.0  1.795037e+00  0.188367\n",
       "Residual               5.072863e+03  12.0           NaN       NaN"
      ]
     },
     "execution_count": 25,
     "metadata": {},
     "output_type": "execute_result"
    }
   ],
   "source": [
    "PCA_per_TF = pd.read_csv('../exp/single_TF_test.csv')\n",
    "PCA_per_TF = PCA_per_TF.replace(['embryonic day 15.5','embryonic day 18.5','postnatal day 0.5','postnatal day 4','postnatal day 22','postnatal day 29'],[-5.5,-2.5,0.5,2,22,29])\n",
    "PCA_per_TF = PCA_per_TF.set_index(['organ','dev_stage'])\n",
    "PCA_per_TF.sort_index(inplace=True)\n",
    "\n",
    "\n",
    "p_val = pd.DataFrame(index=PCA_per_TF.T.index, columns=['C(organ)','C(dev_stage)','C(organ):C(dev_stage)'])\n",
    "for TF in p_val.index:\n",
    "    test_data = pd.DataFrame(PCA_per_TF.loc[:,TF])\n",
    "    test_data = test_data.reset_index()\n",
    "    test_data.columns = [\"organ\", \"dev_stage\", \"TF_expr\"]\n",
    "    data = test_data\n",
    "    TF_lm = ols('TF_expr ~ C(organ)+C(dev_stage)+C(organ):C(dev_stage)', data=data).fit()\n",
    "    table = sm.stats.anova_lm(TF_lm, typ=2)\n",
    "    p_val.loc[TF,'C(organ)'] = table.iloc[0,3]\n",
    "    p_val.loc[TF,'C(dev_stage)'] = table.iloc[1,3]\n",
    "    p_val.loc[TF,'C(organ):C(dev_stage)'] = table.iloc[2,3]\n",
    "table"
   ]
  },
  {
   "cell_type": "code",
   "execution_count": null,
   "metadata": {},
   "outputs": [],
   "source": []
  }
 ],
 "metadata": {
  "kernelspec": {
   "display_name": "Python 3",
   "language": "python",
   "name": "python3"
  },
  "language_info": {
   "codemirror_mode": {
    "name": "ipython",
    "version": 3
   },
   "file_extension": ".py",
   "mimetype": "text/x-python",
   "name": "python",
   "nbconvert_exporter": "python",
   "pygments_lexer": "ipython3",
   "version": "3.7.4"
  }
 },
 "nbformat": 4,
 "nbformat_minor": 2
}
