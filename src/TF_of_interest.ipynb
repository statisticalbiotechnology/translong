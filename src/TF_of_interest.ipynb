{
 "cells": [
  {
   "cell_type": "code",
   "execution_count": 10,
   "metadata": {},
   "outputs": [],
   "source": [
    "import pandas as pd\n",
    "import numpy as np"
   ]
  },
  {
   "cell_type": "code",
   "execution_count": 39,
   "metadata": {},
   "outputs": [],
   "source": [
    "def read_reactome(file_name, gene_name_start = \"ENSG0\"):\n",
    "    df = pd.read_csv(file_name, sep='\\t', header=None)\n",
    "    \n",
    "    if gene_name_start == None:\n",
    "        sub_df = df\n",
    "    else:\n",
    "        subset_vec = df[0].str.startswith(gene_name_start)\n",
    "        sub_df = df.loc[subset_vec]\n",
    "    \n",
    "    genes_df = sub_df.groupby(1)[0].apply(list)\n",
    "    names_df = sub_df.groupby(1)[3].max()\n",
    "    \n",
    "    out_df = pd.concat([genes_df,names_df], axis=1)\n",
    "    out_df.columns = ['genes', 'pathway_name']\n",
    "    \n",
    "    return out_df\n",
    "\n",
    "\n",
    "def ID_to_symbol(dataset):    \n",
    "    symbols = pd.read_csv('../data/Gene_names.txt', index_col='Gene stable ID')\n",
    "    symbols = symbols.drop_duplicates(keep=False)\n",
    "    x = 0\n",
    "    for gene in dataset:\n",
    "        try:\n",
    "            dataset[x] = symbols.loc[gene,'Gene name']\n",
    "            x = x + 1\n",
    "        except KeyError:\n",
    "            dataset.loc[x,'Symbol'] = float('NaN')\n",
    "            x = x + 1\n",
    "    return dataset\n"
   ]
  },
  {
   "cell_type": "code",
   "execution_count": 61,
   "metadata": {},
   "outputs": [
    {
     "data": {
      "text/html": [
       "<div>\n",
       "<style scoped>\n",
       "    .dataframe tbody tr th:only-of-type {\n",
       "        vertical-align: middle;\n",
       "    }\n",
       "\n",
       "    .dataframe tbody tr th {\n",
       "        vertical-align: top;\n",
       "    }\n",
       "\n",
       "    .dataframe thead th {\n",
       "        text-align: right;\n",
       "    }\n",
       "</style>\n",
       "<table border=\"1\" class=\"dataframe\">\n",
       "  <thead>\n",
       "    <tr style=\"text-align: right;\">\n",
       "      <th></th>\n",
       "      <th>CYP2E1 reactions</th>\n",
       "      <th>FMO oxidises nucleophiles</th>\n",
       "      <th>Tryptophan catabolism</th>\n",
       "      <th>PAOs oxidise polyamines to amines</th>\n",
       "      <th>Amino Acid conjugation</th>\n",
       "      <th>Conjugation of benzoate with glycine</th>\n",
       "      <th>Conjugation of carboxylic acids</th>\n",
       "      <th>Conjugation of salicylate with glycine</th>\n",
       "    </tr>\n",
       "  </thead>\n",
       "  <tbody>\n",
       "  </tbody>\n",
       "</table>\n",
       "</div>"
      ],
      "text/plain": [
       "Empty DataFrame\n",
       "Columns: [CYP2E1 reactions, FMO oxidises nucleophiles, Tryptophan catabolism, PAOs oxidise polyamines to amines, Amino Acid conjugation, Conjugation of benzoate with glycine, Conjugation of carboxylic acids, Conjugation of salicylate with glycine]\n",
       "Index: []"
      ]
     },
     "execution_count": 61,
     "metadata": {},
     "output_type": "execute_result"
    }
   ],
   "source": [
    "reactome = read_reactome('../data/Ensembl2Reactome_All_Levels.txt', gene_name_start='ENSMUSG')\n",
    "reactome = reactome.set_index('pathway_name')\n",
    "pathways = ['CYP2E1 reactions','FMO oxidises nucleophiles', 'Tryptophan catabolism', 'PAOs oxidise polyamines to amines', 'Amino Acid conjugation','Conjugation of benzoate with glycine','Conjugation of carboxylic acids','Conjugation of salicylate with glycine']\n",
    "\n",
    "TFs = pd.read_csv('../data/Transfactors/chip_atlas_analysis_list_CORRECTED.csv').loc[1255:1953,['Antigen']]\n",
    "TFs.set_index('Antigen', inplace=True)\n",
    "\n",
    "res = pd.DataFrame()\n",
    "for pathway in pathways:\n",
    "    genes = reactome.loc[pathway, 'genes']\n",
    "    genessyms = ID_to_symbol(genes)\n",
    "    genedf = pd.DataFrame(genessyms)\n",
    "    genedf.set_index(0, inplace=True)\n",
    "    overlap = genedf.index.intersection(TFs.index)\n",
    "    res.loc[:,pathway] = overlap\n",
    "res\n"
   ]
  },
  {
   "cell_type": "code",
   "execution_count": null,
   "metadata": {},
   "outputs": [],
   "source": []
  }
 ],
 "metadata": {
  "kernelspec": {
   "display_name": "Python 3",
   "language": "python",
   "name": "python3"
  },
  "language_info": {
   "codemirror_mode": {
    "name": "ipython",
    "version": 3
   },
   "file_extension": ".py",
   "mimetype": "text/x-python",
   "name": "python",
   "nbconvert_exporter": "python",
   "pygments_lexer": "ipython3",
   "version": "3.7.4"
  }
 },
 "nbformat": 4,
 "nbformat_minor": 2
}
